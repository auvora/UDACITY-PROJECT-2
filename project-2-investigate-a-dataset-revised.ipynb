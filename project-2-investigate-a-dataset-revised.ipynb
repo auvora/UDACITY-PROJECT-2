{
 "cells": [
  {
   "cell_type": "markdown",
   "metadata": {},
   "source": [
    "# Investigate a dataset project\n",
    "## Introduction\n",
    "This project is my implementation of the \"Investigate a dataset\" project. This is the second project of the Data Analyst nanodegree program of Udacity. The dataset I selected is the \"No-show appointments dataset\". This dataset collects information from 100k medical appointments in Brazil and is focused on the question of whether or not patients show up for their appointment.The question I want to answer is\n",
    "\n",
    "## Question. What are the most important factors in determing the likelyhood of a no-show?\n",
    "I start with loading the dataset and the python libraries I need. Then I clean up the data where needed. I will go over most of the variables in the dataset to investigate the influence of theses variables on the noshow percentage. \n",
    "\n",
    "## Loading the data and libraries"
   ]
  },
  {
   "cell_type": "code",
   "execution_count": 4,
   "metadata": {},
   "outputs": [
    {
     "data": {
      "text/html": [
       "<div>\n",
       "<style>\n",
       "    .dataframe thead tr:only-child th {\n",
       "        text-align: right;\n",
       "    }\n",
       "\n",
       "    .dataframe thead th {\n",
       "        text-align: left;\n",
       "    }\n",
       "\n",
       "    .dataframe tbody tr th {\n",
       "        vertical-align: top;\n",
       "    }\n",
       "</style>\n",
       "<table border=\"1\" class=\"dataframe\">\n",
       "  <thead>\n",
       "    <tr style=\"text-align: right;\">\n",
       "      <th></th>\n",
       "      <th>PatientId</th>\n",
       "      <th>AppointmentID</th>\n",
       "      <th>Gender</th>\n",
       "      <th>ScheduledDay</th>\n",
       "      <th>AppointmentDay</th>\n",
       "      <th>Age</th>\n",
       "      <th>Neighbourhood</th>\n",
       "      <th>Scholarship</th>\n",
       "      <th>Hipertension</th>\n",
       "      <th>Diabetes</th>\n",
       "      <th>Alcoholism</th>\n",
       "      <th>Handcap</th>\n",
       "      <th>SMS_received</th>\n",
       "      <th>No-show</th>\n",
       "    </tr>\n",
       "  </thead>\n",
       "  <tbody>\n",
       "    <tr>\n",
       "      <th>0</th>\n",
       "      <td>2.987250e+13</td>\n",
       "      <td>5642903</td>\n",
       "      <td>F</td>\n",
       "      <td>2016-04-29T18:38:08Z</td>\n",
       "      <td>2016-04-29T00:00:00Z</td>\n",
       "      <td>62</td>\n",
       "      <td>JARDIM DA PENHA</td>\n",
       "      <td>0</td>\n",
       "      <td>1</td>\n",
       "      <td>0</td>\n",
       "      <td>0</td>\n",
       "      <td>0</td>\n",
       "      <td>0</td>\n",
       "      <td>No</td>\n",
       "    </tr>\n",
       "    <tr>\n",
       "      <th>1</th>\n",
       "      <td>5.589978e+14</td>\n",
       "      <td>5642503</td>\n",
       "      <td>M</td>\n",
       "      <td>2016-04-29T16:08:27Z</td>\n",
       "      <td>2016-04-29T00:00:00Z</td>\n",
       "      <td>56</td>\n",
       "      <td>JARDIM DA PENHA</td>\n",
       "      <td>0</td>\n",
       "      <td>0</td>\n",
       "      <td>0</td>\n",
       "      <td>0</td>\n",
       "      <td>0</td>\n",
       "      <td>0</td>\n",
       "      <td>No</td>\n",
       "    </tr>\n",
       "    <tr>\n",
       "      <th>2</th>\n",
       "      <td>4.262962e+12</td>\n",
       "      <td>5642549</td>\n",
       "      <td>F</td>\n",
       "      <td>2016-04-29T16:19:04Z</td>\n",
       "      <td>2016-04-29T00:00:00Z</td>\n",
       "      <td>62</td>\n",
       "      <td>MATA DA PRAIA</td>\n",
       "      <td>0</td>\n",
       "      <td>0</td>\n",
       "      <td>0</td>\n",
       "      <td>0</td>\n",
       "      <td>0</td>\n",
       "      <td>0</td>\n",
       "      <td>No</td>\n",
       "    </tr>\n",
       "    <tr>\n",
       "      <th>3</th>\n",
       "      <td>8.679512e+11</td>\n",
       "      <td>5642828</td>\n",
       "      <td>F</td>\n",
       "      <td>2016-04-29T17:29:31Z</td>\n",
       "      <td>2016-04-29T00:00:00Z</td>\n",
       "      <td>8</td>\n",
       "      <td>PONTAL DE CAMBURI</td>\n",
       "      <td>0</td>\n",
       "      <td>0</td>\n",
       "      <td>0</td>\n",
       "      <td>0</td>\n",
       "      <td>0</td>\n",
       "      <td>0</td>\n",
       "      <td>No</td>\n",
       "    </tr>\n",
       "    <tr>\n",
       "      <th>4</th>\n",
       "      <td>8.841186e+12</td>\n",
       "      <td>5642494</td>\n",
       "      <td>F</td>\n",
       "      <td>2016-04-29T16:07:23Z</td>\n",
       "      <td>2016-04-29T00:00:00Z</td>\n",
       "      <td>56</td>\n",
       "      <td>JARDIM DA PENHA</td>\n",
       "      <td>0</td>\n",
       "      <td>1</td>\n",
       "      <td>1</td>\n",
       "      <td>0</td>\n",
       "      <td>0</td>\n",
       "      <td>0</td>\n",
       "      <td>No</td>\n",
       "    </tr>\n",
       "  </tbody>\n",
       "</table>\n",
       "</div>"
      ],
      "text/plain": [
       "      PatientId  AppointmentID Gender          ScheduledDay  \\\n",
       "0  2.987250e+13        5642903      F  2016-04-29T18:38:08Z   \n",
       "1  5.589978e+14        5642503      M  2016-04-29T16:08:27Z   \n",
       "2  4.262962e+12        5642549      F  2016-04-29T16:19:04Z   \n",
       "3  8.679512e+11        5642828      F  2016-04-29T17:29:31Z   \n",
       "4  8.841186e+12        5642494      F  2016-04-29T16:07:23Z   \n",
       "\n",
       "         AppointmentDay  Age      Neighbourhood  Scholarship  Hipertension  \\\n",
       "0  2016-04-29T00:00:00Z   62    JARDIM DA PENHA            0             1   \n",
       "1  2016-04-29T00:00:00Z   56    JARDIM DA PENHA            0             0   \n",
       "2  2016-04-29T00:00:00Z   62      MATA DA PRAIA            0             0   \n",
       "3  2016-04-29T00:00:00Z    8  PONTAL DE CAMBURI            0             0   \n",
       "4  2016-04-29T00:00:00Z   56    JARDIM DA PENHA            0             1   \n",
       "\n",
       "   Diabetes  Alcoholism  Handcap  SMS_received No-show  \n",
       "0         0           0        0             0      No  \n",
       "1         0           0        0             0      No  \n",
       "2         0           0        0             0      No  \n",
       "3         0           0        0             0      No  \n",
       "4         1           0        0             0      No  "
      ]
     },
     "execution_count": 4,
     "metadata": {},
     "output_type": "execute_result"
    }
   ],
   "source": [
    "import pandas as pd\n",
    "import numpy as np\n",
    "import matplotlib.pyplot as plt\n",
    "import seaborn as sns\n",
    "%matplotlib inline\n",
    "sns.set_style('darkgrid')\n",
    "df = pd.read_csv('noshowappointments-kagglev2-may-2016.csv')\n",
    "df.head()"
   ]
  },
  {
   "cell_type": "markdown",
   "metadata": {},
   "source": [
    "## A first look at the quality of the data\n",
    "First we will take a look at the quality of the data using the same steps as in \"Lesson 3: The data analysis proces\"."
   ]
  },
  {
   "cell_type": "code",
   "execution_count": 5,
   "metadata": {},
   "outputs": [
    {
     "data": {
      "text/plain": [
       "PatientId         float64\n",
       "AppointmentID       int64\n",
       "Gender             object\n",
       "ScheduledDay       object\n",
       "AppointmentDay     object\n",
       "Age                 int64\n",
       "Neighbourhood      object\n",
       "Scholarship         int64\n",
       "Hipertension        int64\n",
       "Diabetes            int64\n",
       "Alcoholism          int64\n",
       "Handcap             int64\n",
       "SMS_received        int64\n",
       "No-show            object\n",
       "dtype: object"
      ]
     },
     "execution_count": 5,
     "metadata": {},
     "output_type": "execute_result"
    }
   ],
   "source": [
    "# this returns the datatypes of the columns\n",
    "df.dtypes"
   ]
  },
  {
   "cell_type": "code",
   "execution_count": 6,
   "metadata": {},
   "outputs": [
    {
     "name": "stdout",
     "output_type": "stream",
     "text": [
      "<class 'pandas.core.frame.DataFrame'>\n",
      "RangeIndex: 110527 entries, 0 to 110526\n",
      "Data columns (total 14 columns):\n",
      "PatientId         110527 non-null float64\n",
      "AppointmentID     110527 non-null int64\n",
      "Gender            110527 non-null object\n",
      "ScheduledDay      110527 non-null object\n",
      "AppointmentDay    110527 non-null object\n",
      "Age               110527 non-null int64\n",
      "Neighbourhood     110527 non-null object\n",
      "Scholarship       110527 non-null int64\n",
      "Hipertension      110527 non-null int64\n",
      "Diabetes          110527 non-null int64\n",
      "Alcoholism        110527 non-null int64\n",
      "Handcap           110527 non-null int64\n",
      "SMS_received      110527 non-null int64\n",
      "No-show           110527 non-null object\n",
      "dtypes: float64(1), int64(8), object(5)\n",
      "memory usage: 11.8+ MB\n"
     ]
    }
   ],
   "source": [
    "# this displays a concise summary of the dataframe,\n",
    "# including the number of non-null values in each column\n",
    "df.info()"
   ]
  },
  {
   "cell_type": "markdown",
   "metadata": {},
   "source": [
    "All columns have 110527 non-null values which is equal to the total number of rows so we have no nulls anywhere. "
   ]
  },
  {
   "cell_type": "code",
   "execution_count": 7,
   "metadata": {},
   "outputs": [
    {
     "data": {
      "text/plain": [
       "PatientId          62299\n",
       "AppointmentID     110527\n",
       "Gender                 2\n",
       "ScheduledDay      103549\n",
       "AppointmentDay        27\n",
       "Age                  104\n",
       "Neighbourhood         81\n",
       "Scholarship            2\n",
       "Hipertension           2\n",
       "Diabetes               2\n",
       "Alcoholism             2\n",
       "Handcap                5\n",
       "SMS_received           2\n",
       "No-show                2\n",
       "dtype: int64"
      ]
     },
     "execution_count": 7,
     "metadata": {},
     "output_type": "execute_result"
    }
   ],
   "source": [
    "# this returns the number of unique values in each column\n",
    "df.nunique()"
   ]
  },
  {
   "cell_type": "code",
   "execution_count": 8,
   "metadata": {},
   "outputs": [
    {
     "data": {
      "text/plain": [
       "array([ 62,  56,   8,  76,  23,  39,  21,  19,  30,  29,  22,  28,  54,\n",
       "        15,  50,  40,  46,   4,  13,  65,  45,  51,  32,  12,  61,  38,\n",
       "        79,  18,  63,  64,  85,  59,  55,  71,  49,  78,  31,  58,  27,\n",
       "         6,   2,  11,   7,   0,   3,   1,  69,  68,  60,  67,  36,  10,\n",
       "        35,  20,  26,  34,  33,  16,  42,   5,  47,  17,  41,  44,  37,\n",
       "        24,  66,  77,  81,  70,  53,  75,  73,  52,  74,  43,  89,  57,\n",
       "        14,   9,  48,  83,  72,  25,  80,  87,  88,  84,  82,  90,  94,\n",
       "        86,  91,  98,  92,  96,  93,  95,  97, 102, 115, 100,  99,  -1])"
      ]
     },
     "execution_count": 8,
     "metadata": {},
     "output_type": "execute_result"
    }
   ],
   "source": [
    "#List unique values in the df['name'] column\n",
    "df.Age.unique()"
   ]
  },
  {
   "cell_type": "markdown",
   "metadata": {},
   "source": [
    "There are some old people here, up to 115 years. There is also the value -1. A fetus? Age unknown? This is a nonsensical value."
   ]
  },
  {
   "cell_type": "code",
   "execution_count": 9,
   "metadata": {},
   "outputs": [
    {
     "data": {
      "text/plain": [
       "(110526, 14)"
      ]
     },
     "execution_count": 9,
     "metadata": {},
     "output_type": "execute_result"
    }
   ],
   "source": [
    "df = df.drop(df.index[df.Age == -1])\n",
    "df.shape"
   ]
  },
  {
   "cell_type": "markdown",
   "metadata": {},
   "source": [
    "One row with Age == -1 is removed. "
   ]
  },
  {
   "cell_type": "markdown",
   "metadata": {},
   "source": [
    "\n",
    "\n",
    "### What is the overall no-show percentage?\n",
    "Before looking at the the influence of different variables on the no-show percentage we need to know the overall no-show percentage."
   ]
  },
  {
   "cell_type": "code",
   "execution_count": 10,
   "metadata": {},
   "outputs": [
    {
     "name": "stdout",
     "output_type": "stream",
     "text": [
      "Total =  110526\n",
      "General no-show =  20 %\n"
     ]
    }
   ],
   "source": [
    "total = len(df.index)\n",
    "print('Total = ', total)\n",
    "total_noshow = (df['No-show'] == 'Yes').sum()\n",
    "print('General no-show = ', int((total_noshow / total) * 100), '%')"
   ]
  },
  {
   "cell_type": "markdown",
   "metadata": {},
   "source": [
    "The overall no-show percentage is 20 % and we have a total of 110526 records.\n",
    "\n",
    "### What is the influence of gender on the no-show percentage?"
   ]
  },
  {
   "cell_type": "code",
   "execution_count": 11,
   "metadata": {},
   "outputs": [
    {
     "name": "stdout",
     "output_type": "stream",
     "text": [
      "38687 of the appointments is for a man. This is 35% of 110526 records.\n",
      "71839 of the appointments is for a woman. This is 64% of 110526 records.\n"
     ]
    }
   ],
   "source": [
    "# this function prints a 1d analysis of a variable\n",
    "def print_1d_analysis(column_name, value, specific_text):\n",
    "    total = len(df.index)\n",
    "    total_value = (df[column_name] == value).sum()\n",
    "    percent = int((total_value / total) * 100)\n",
    "    text = ' This is ' + str(percent) + '% of ' + str(total) + ' records.'\n",
    "    print(str(total_value) + ' ' + specific_text + text)\n",
    "    \n",
    "print_1d_analysis('Gender', 'M', 'of the appointments is for a man.')\n",
    "print_1d_analysis('Gender', 'F', 'of the appointments is for a woman.')"
   ]
  },
  {
   "cell_type": "code",
   "execution_count": 12,
   "metadata": {
    "collapsed": true
   },
   "outputs": [],
   "source": [
    "def print_noshow_percentage(column_name, value, percentage_text):\n",
    "    total = (df[column_name] == value).sum()\n",
    "    noshow = len((df[(df[column_name] == value) & (df['No-show'] == 'Yes')]))\n",
    "    print(int((noshow / total) * 100), percentage_text)"
   ]
  },
  {
   "cell_type": "code",
   "execution_count": 13,
   "metadata": {},
   "outputs": [
    {
     "name": "stdout",
     "output_type": "stream",
     "text": [
      "19 % of all appointments with a man is a no show\n",
      "20 % of all appointments with a woman is a no show\n"
     ]
    }
   ],
   "source": [
    "#Gender\n",
    "print_noshow_percentage('Gender', 'M', '% of all appointments with a man is a no show')\n",
    "print_noshow_percentage('Gender', 'F', '% of all appointments with a woman is a no show')\n"
   ]
  },
  {
   "cell_type": "markdown",
   "metadata": {},
   "source": [
    "Apparently gender is not an important factor. The distribution is clearely skewed towards women 64% vs 35%. However as the no-show percentage under man and woman is almost equal this will have little effect on the overal study.\n",
    "\n",
    "### What is the influence of hipertension, diabetes and alcoholism on the no-show percentage? "
   ]
  },
  {
   "cell_type": "code",
   "execution_count": 14,
   "metadata": {},
   "outputs": [
    {
     "name": "stdout",
     "output_type": "stream",
     "text": [
      "21801 of the appointments involves a patient with hipertension. This is 19% of 110526 records.\n",
      "7943 of the appointments involves a patient with diabetes. This is 7% of 110526 records.\n",
      "3360 of the appointments involves a patient with alcoholism. This is 3% of 110526 records.\n"
     ]
    }
   ],
   "source": [
    "print_1d_analysis('Hipertension', 1, 'of the appointments involves a patient with hipertension.')\n",
    "print_1d_analysis('Diabetes', 1, 'of the appointments involves a patient with diabetes.')\n",
    "print_1d_analysis('Alcoholism', 1, 'of the appointments involves a patient with alcoholism.')"
   ]
  },
  {
   "cell_type": "code",
   "execution_count": 15,
   "metadata": {},
   "outputs": [
    {
     "name": "stdout",
     "output_type": "stream",
     "text": [
      "17 % of all appointments with someone with hipertension is a no show\n",
      "18 % of all appointments with someone with diabetes is a no show\n",
      "20 % of all appointments with someone with alcoholism is a no show\n"
     ]
    }
   ],
   "source": [
    "print_noshow_percentage('Hipertension', 1, '% of all appointments with someone with hipertension is a no show')\n",
    "print_noshow_percentage('Diabetes', 1, '% of all appointments with someone with diabetes is a no show')\n",
    "print_noshow_percentage('Alcoholism', 1, '% of all appointments with someone with alcoholism is a no show')"
   ]
  },
  {
   "cell_type": "markdown",
   "metadata": {},
   "source": [
    "Alcoholism is not a factor in the no-show percentage. The no-show percentage for patients with hipertension or diabetes is significantly lower. \n",
    "I want to look deeper in this."
   ]
  },
  {
   "cell_type": "code",
   "execution_count": 16,
   "metadata": {},
   "outputs": [
    {
     "name": "stdout",
     "output_type": "stream",
     "text": [
      "18% of all appontments for patients with Hipertension = 1 and Alcoholism = 1 is a no-show\n",
      "17% of all appontments for patients with Hipertension = 1 and Alcoholism = 0 is a no-show\n",
      "17% of all appontments for patients with Diabetes = 1 and Alcoholism = 1 is a no-show\n",
      "18% of all appontments for patients with Diabetes = 1 and Alcoholism = 0 is a no-show\n"
     ]
    }
   ],
   "source": [
    "# first make a function that prints the no show percetage of a variable given that another variable has a certain value\n",
    "def print_noshow_percentage_given(column_name, value, given_column, given_value):\n",
    "    total = ((df[column_name] == value) & (df[given_column] == given_value)).sum()\n",
    "    noshow = len(df[((df[column_name] == value) & (df[given_column] == given_value) & (df['No-show'] == 'Yes'))])\n",
    "    percentage = int((noshow / total) * 100)\n",
    "    text = str(percentage) + '% of all appontments for patients with ' + column_name + ' = ' + str(value)\n",
    "    text = text + ' and ' + given_column + ' = ' + str(given_value) + ' is a no-show'\n",
    "    print(text)\n",
    "\n",
    "print_noshow_percentage_given('Hipertension', 1, 'Alcoholism', 1 )   \n",
    "print_noshow_percentage_given('Hipertension', 1, 'Alcoholism', 0 )\n",
    "print_noshow_percentage_given('Diabetes', 1, 'Alcoholism', 1 )   \n",
    "print_noshow_percentage_given('Diabetes', 1, 'Alcoholism', 0 )"
   ]
  },
  {
   "cell_type": "markdown",
   "metadata": {},
   "source": [
    "The results on alcoholism on no-show percentage is inconclusive. Among patients with hipertension alcoholism slightly increases the no-show percentage, among patients with diabetes alcoholism slightly lowers it.\n",
    "### Are people who received an SMS more likely to show up?"
   ]
  },
  {
   "cell_type": "code",
   "execution_count": 17,
   "metadata": {},
   "outputs": [
    {
     "name": "stdout",
     "output_type": "stream",
     "text": [
      "35482 of the appointments involves a patient who received an SMS. This is 32% of 110526 records.\n",
      "27 % of all appointments with someone who received an SMS is a no show\n"
     ]
    }
   ],
   "source": [
    "print_1d_analysis('SMS_received', 1, 'of the appointments involves a patient who received an SMS.')\n",
    "print_noshow_percentage('SMS_received', 1, '% of all appointments with someone who received an SMS is a no show')"
   ]
  },
  {
   "cell_type": "markdown",
   "metadata": {},
   "source": [
    "Yikes!! That is 27% of no-shows under people who received an SMS. As there is no information available on why some patients get an SMS and others not, it is not possible to give an explanation.  \n",
    "\n",
    "### Clean up\n",
    "In order to make the dataset less unwieldy drop some columns we no longer need"
   ]
  },
  {
   "cell_type": "code",
   "execution_count": 18,
   "metadata": {},
   "outputs": [
    {
     "data": {
      "text/html": [
       "<div>\n",
       "<style>\n",
       "    .dataframe thead tr:only-child th {\n",
       "        text-align: right;\n",
       "    }\n",
       "\n",
       "    .dataframe thead th {\n",
       "        text-align: left;\n",
       "    }\n",
       "\n",
       "    .dataframe tbody tr th {\n",
       "        vertical-align: top;\n",
       "    }\n",
       "</style>\n",
       "<table border=\"1\" class=\"dataframe\">\n",
       "  <thead>\n",
       "    <tr style=\"text-align: right;\">\n",
       "      <th></th>\n",
       "      <th>PatientId</th>\n",
       "      <th>AppointmentID</th>\n",
       "      <th>Gender</th>\n",
       "      <th>ScheduledDay</th>\n",
       "      <th>AppointmentDay</th>\n",
       "      <th>Age</th>\n",
       "      <th>Neighbourhood</th>\n",
       "      <th>No-show</th>\n",
       "    </tr>\n",
       "  </thead>\n",
       "  <tbody>\n",
       "    <tr>\n",
       "      <th>0</th>\n",
       "      <td>2.987250e+13</td>\n",
       "      <td>5642903</td>\n",
       "      <td>F</td>\n",
       "      <td>2016-04-29T18:38:08Z</td>\n",
       "      <td>2016-04-29T00:00:00Z</td>\n",
       "      <td>62</td>\n",
       "      <td>JARDIM DA PENHA</td>\n",
       "      <td>No</td>\n",
       "    </tr>\n",
       "    <tr>\n",
       "      <th>1</th>\n",
       "      <td>5.589978e+14</td>\n",
       "      <td>5642503</td>\n",
       "      <td>M</td>\n",
       "      <td>2016-04-29T16:08:27Z</td>\n",
       "      <td>2016-04-29T00:00:00Z</td>\n",
       "      <td>56</td>\n",
       "      <td>JARDIM DA PENHA</td>\n",
       "      <td>No</td>\n",
       "    </tr>\n",
       "    <tr>\n",
       "      <th>2</th>\n",
       "      <td>4.262962e+12</td>\n",
       "      <td>5642549</td>\n",
       "      <td>F</td>\n",
       "      <td>2016-04-29T16:19:04Z</td>\n",
       "      <td>2016-04-29T00:00:00Z</td>\n",
       "      <td>62</td>\n",
       "      <td>MATA DA PRAIA</td>\n",
       "      <td>No</td>\n",
       "    </tr>\n",
       "    <tr>\n",
       "      <th>3</th>\n",
       "      <td>8.679512e+11</td>\n",
       "      <td>5642828</td>\n",
       "      <td>F</td>\n",
       "      <td>2016-04-29T17:29:31Z</td>\n",
       "      <td>2016-04-29T00:00:00Z</td>\n",
       "      <td>8</td>\n",
       "      <td>PONTAL DE CAMBURI</td>\n",
       "      <td>No</td>\n",
       "    </tr>\n",
       "    <tr>\n",
       "      <th>4</th>\n",
       "      <td>8.841186e+12</td>\n",
       "      <td>5642494</td>\n",
       "      <td>F</td>\n",
       "      <td>2016-04-29T16:07:23Z</td>\n",
       "      <td>2016-04-29T00:00:00Z</td>\n",
       "      <td>56</td>\n",
       "      <td>JARDIM DA PENHA</td>\n",
       "      <td>No</td>\n",
       "    </tr>\n",
       "  </tbody>\n",
       "</table>\n",
       "</div>"
      ],
      "text/plain": [
       "      PatientId  AppointmentID Gender          ScheduledDay  \\\n",
       "0  2.987250e+13        5642903      F  2016-04-29T18:38:08Z   \n",
       "1  5.589978e+14        5642503      M  2016-04-29T16:08:27Z   \n",
       "2  4.262962e+12        5642549      F  2016-04-29T16:19:04Z   \n",
       "3  8.679512e+11        5642828      F  2016-04-29T17:29:31Z   \n",
       "4  8.841186e+12        5642494      F  2016-04-29T16:07:23Z   \n",
       "\n",
       "         AppointmentDay  Age      Neighbourhood No-show  \n",
       "0  2016-04-29T00:00:00Z   62    JARDIM DA PENHA      No  \n",
       "1  2016-04-29T00:00:00Z   56    JARDIM DA PENHA      No  \n",
       "2  2016-04-29T00:00:00Z   62      MATA DA PRAIA      No  \n",
       "3  2016-04-29T00:00:00Z    8  PONTAL DE CAMBURI      No  \n",
       "4  2016-04-29T00:00:00Z   56    JARDIM DA PENHA      No  "
      ]
     },
     "execution_count": 18,
     "metadata": {},
     "output_type": "execute_result"
    }
   ],
   "source": [
    "df.drop('Scholarship', axis=1, inplace=True)\n",
    "df.drop('Hipertension', axis=1, inplace=True)\n",
    "df.drop('Diabetes', axis=1, inplace=True)\n",
    "df.drop('Alcoholism', axis=1, inplace=True)\n",
    "df.drop('Handcap', axis=1, inplace=True)\n",
    "df.drop('SMS_received', axis=1, inplace=True)\n",
    "df.head()"
   ]
  },
  {
   "cell_type": "code",
   "execution_count": 19,
   "metadata": {},
   "outputs": [
    {
     "data": {
      "text/html": [
       "<div>\n",
       "<style>\n",
       "    .dataframe thead tr:only-child th {\n",
       "        text-align: right;\n",
       "    }\n",
       "\n",
       "    .dataframe thead th {\n",
       "        text-align: left;\n",
       "    }\n",
       "\n",
       "    .dataframe tbody tr th {\n",
       "        vertical-align: top;\n",
       "    }\n",
       "</style>\n",
       "<table border=\"1\" class=\"dataframe\">\n",
       "  <thead>\n",
       "    <tr style=\"text-align: right;\">\n",
       "      <th></th>\n",
       "      <th>PatientId</th>\n",
       "      <th>AppointmentID</th>\n",
       "      <th>Gender</th>\n",
       "      <th>ScheduledDay</th>\n",
       "      <th>AppointmentDay</th>\n",
       "      <th>Age</th>\n",
       "      <th>Neighbourhood</th>\n",
       "      <th>No-show</th>\n",
       "      <th>No-show_Binary</th>\n",
       "    </tr>\n",
       "  </thead>\n",
       "  <tbody>\n",
       "    <tr>\n",
       "      <th>0</th>\n",
       "      <td>2.987250e+13</td>\n",
       "      <td>5642903</td>\n",
       "      <td>F</td>\n",
       "      <td>2016-04-29T18:38:08Z</td>\n",
       "      <td>2016-04-29T00:00:00Z</td>\n",
       "      <td>62</td>\n",
       "      <td>JARDIM DA PENHA</td>\n",
       "      <td>No</td>\n",
       "      <td>0.0</td>\n",
       "    </tr>\n",
       "    <tr>\n",
       "      <th>1</th>\n",
       "      <td>5.589978e+14</td>\n",
       "      <td>5642503</td>\n",
       "      <td>M</td>\n",
       "      <td>2016-04-29T16:08:27Z</td>\n",
       "      <td>2016-04-29T00:00:00Z</td>\n",
       "      <td>56</td>\n",
       "      <td>JARDIM DA PENHA</td>\n",
       "      <td>No</td>\n",
       "      <td>0.0</td>\n",
       "    </tr>\n",
       "    <tr>\n",
       "      <th>2</th>\n",
       "      <td>4.262962e+12</td>\n",
       "      <td>5642549</td>\n",
       "      <td>F</td>\n",
       "      <td>2016-04-29T16:19:04Z</td>\n",
       "      <td>2016-04-29T00:00:00Z</td>\n",
       "      <td>62</td>\n",
       "      <td>MATA DA PRAIA</td>\n",
       "      <td>No</td>\n",
       "      <td>0.0</td>\n",
       "    </tr>\n",
       "    <tr>\n",
       "      <th>3</th>\n",
       "      <td>8.679512e+11</td>\n",
       "      <td>5642828</td>\n",
       "      <td>F</td>\n",
       "      <td>2016-04-29T17:29:31Z</td>\n",
       "      <td>2016-04-29T00:00:00Z</td>\n",
       "      <td>8</td>\n",
       "      <td>PONTAL DE CAMBURI</td>\n",
       "      <td>No</td>\n",
       "      <td>0.0</td>\n",
       "    </tr>\n",
       "    <tr>\n",
       "      <th>4</th>\n",
       "      <td>8.841186e+12</td>\n",
       "      <td>5642494</td>\n",
       "      <td>F</td>\n",
       "      <td>2016-04-29T16:07:23Z</td>\n",
       "      <td>2016-04-29T00:00:00Z</td>\n",
       "      <td>56</td>\n",
       "      <td>JARDIM DA PENHA</td>\n",
       "      <td>No</td>\n",
       "      <td>0.0</td>\n",
       "    </tr>\n",
       "  </tbody>\n",
       "</table>\n",
       "</div>"
      ],
      "text/plain": [
       "      PatientId  AppointmentID Gender          ScheduledDay  \\\n",
       "0  2.987250e+13        5642903      F  2016-04-29T18:38:08Z   \n",
       "1  5.589978e+14        5642503      M  2016-04-29T16:08:27Z   \n",
       "2  4.262962e+12        5642549      F  2016-04-29T16:19:04Z   \n",
       "3  8.679512e+11        5642828      F  2016-04-29T17:29:31Z   \n",
       "4  8.841186e+12        5642494      F  2016-04-29T16:07:23Z   \n",
       "\n",
       "         AppointmentDay  Age      Neighbourhood No-show  No-show_Binary  \n",
       "0  2016-04-29T00:00:00Z   62    JARDIM DA PENHA      No             0.0  \n",
       "1  2016-04-29T00:00:00Z   56    JARDIM DA PENHA      No             0.0  \n",
       "2  2016-04-29T00:00:00Z   62      MATA DA PRAIA      No             0.0  \n",
       "3  2016-04-29T00:00:00Z    8  PONTAL DE CAMBURI      No             0.0  \n",
       "4  2016-04-29T00:00:00Z   56    JARDIM DA PENHA      No             0.0  "
      ]
     },
     "execution_count": 19,
     "metadata": {},
     "output_type": "execute_result"
    }
   ],
   "source": [
    "#It is easier to calculate with 1 and 0 than yes and no\n",
    "df['No-show_Binary'] = df['No-show'].replace(('Yes', 'No'), (1.0, 0.0))\n",
    "df.head()"
   ]
  },
  {
   "cell_type": "markdown",
   "metadata": {},
   "source": [
    "### De influence of age\n",
    "First we are going to group ages togetther in bins of 5 years. \n",
    "Then we plot the no-show percentage as a function of these age-bins."
   ]
  },
  {
   "cell_type": "code",
   "execution_count": 20,
   "metadata": {},
   "outputs": [
    {
     "data": {
      "text/html": [
       "<div>\n",
       "<style>\n",
       "    .dataframe thead tr:only-child th {\n",
       "        text-align: right;\n",
       "    }\n",
       "\n",
       "    .dataframe thead th {\n",
       "        text-align: left;\n",
       "    }\n",
       "\n",
       "    .dataframe tbody tr th {\n",
       "        vertical-align: top;\n",
       "    }\n",
       "</style>\n",
       "<table border=\"1\" class=\"dataframe\">\n",
       "  <thead>\n",
       "    <tr style=\"text-align: right;\">\n",
       "      <th></th>\n",
       "      <th>PatientId</th>\n",
       "      <th>AppointmentID</th>\n",
       "      <th>Gender</th>\n",
       "      <th>ScheduledDay</th>\n",
       "      <th>AppointmentDay</th>\n",
       "      <th>Age</th>\n",
       "      <th>Neighbourhood</th>\n",
       "      <th>No-show</th>\n",
       "      <th>No-show_Binary</th>\n",
       "      <th>Agebins</th>\n",
       "    </tr>\n",
       "  </thead>\n",
       "  <tbody>\n",
       "    <tr>\n",
       "      <th>0</th>\n",
       "      <td>2.987250e+13</td>\n",
       "      <td>5642903</td>\n",
       "      <td>F</td>\n",
       "      <td>2016-04-29T18:38:08Z</td>\n",
       "      <td>2016-04-29T00:00:00Z</td>\n",
       "      <td>62</td>\n",
       "      <td>JARDIM DA PENHA</td>\n",
       "      <td>No</td>\n",
       "      <td>0.0</td>\n",
       "      <td>(60, 65]</td>\n",
       "    </tr>\n",
       "    <tr>\n",
       "      <th>1</th>\n",
       "      <td>5.589978e+14</td>\n",
       "      <td>5642503</td>\n",
       "      <td>M</td>\n",
       "      <td>2016-04-29T16:08:27Z</td>\n",
       "      <td>2016-04-29T00:00:00Z</td>\n",
       "      <td>56</td>\n",
       "      <td>JARDIM DA PENHA</td>\n",
       "      <td>No</td>\n",
       "      <td>0.0</td>\n",
       "      <td>(55, 60]</td>\n",
       "    </tr>\n",
       "    <tr>\n",
       "      <th>2</th>\n",
       "      <td>4.262962e+12</td>\n",
       "      <td>5642549</td>\n",
       "      <td>F</td>\n",
       "      <td>2016-04-29T16:19:04Z</td>\n",
       "      <td>2016-04-29T00:00:00Z</td>\n",
       "      <td>62</td>\n",
       "      <td>MATA DA PRAIA</td>\n",
       "      <td>No</td>\n",
       "      <td>0.0</td>\n",
       "      <td>(60, 65]</td>\n",
       "    </tr>\n",
       "    <tr>\n",
       "      <th>3</th>\n",
       "      <td>8.679512e+11</td>\n",
       "      <td>5642828</td>\n",
       "      <td>F</td>\n",
       "      <td>2016-04-29T17:29:31Z</td>\n",
       "      <td>2016-04-29T00:00:00Z</td>\n",
       "      <td>8</td>\n",
       "      <td>PONTAL DE CAMBURI</td>\n",
       "      <td>No</td>\n",
       "      <td>0.0</td>\n",
       "      <td>(5, 10]</td>\n",
       "    </tr>\n",
       "    <tr>\n",
       "      <th>4</th>\n",
       "      <td>8.841186e+12</td>\n",
       "      <td>5642494</td>\n",
       "      <td>F</td>\n",
       "      <td>2016-04-29T16:07:23Z</td>\n",
       "      <td>2016-04-29T00:00:00Z</td>\n",
       "      <td>56</td>\n",
       "      <td>JARDIM DA PENHA</td>\n",
       "      <td>No</td>\n",
       "      <td>0.0</td>\n",
       "      <td>(55, 60]</td>\n",
       "    </tr>\n",
       "  </tbody>\n",
       "</table>\n",
       "</div>"
      ],
      "text/plain": [
       "      PatientId  AppointmentID Gender          ScheduledDay  \\\n",
       "0  2.987250e+13        5642903      F  2016-04-29T18:38:08Z   \n",
       "1  5.589978e+14        5642503      M  2016-04-29T16:08:27Z   \n",
       "2  4.262962e+12        5642549      F  2016-04-29T16:19:04Z   \n",
       "3  8.679512e+11        5642828      F  2016-04-29T17:29:31Z   \n",
       "4  8.841186e+12        5642494      F  2016-04-29T16:07:23Z   \n",
       "\n",
       "         AppointmentDay  Age      Neighbourhood No-show  No-show_Binary  \\\n",
       "0  2016-04-29T00:00:00Z   62    JARDIM DA PENHA      No             0.0   \n",
       "1  2016-04-29T00:00:00Z   56    JARDIM DA PENHA      No             0.0   \n",
       "2  2016-04-29T00:00:00Z   62      MATA DA PRAIA      No             0.0   \n",
       "3  2016-04-29T00:00:00Z    8  PONTAL DE CAMBURI      No             0.0   \n",
       "4  2016-04-29T00:00:00Z   56    JARDIM DA PENHA      No             0.0   \n",
       "\n",
       "    Agebins  \n",
       "0  (60, 65]  \n",
       "1  (55, 60]  \n",
       "2  (60, 65]  \n",
       "3   (5, 10]  \n",
       "4  (55, 60]  "
      ]
     },
     "execution_count": 20,
     "metadata": {},
     "output_type": "execute_result"
    }
   ],
   "source": [
    "#Creating the age-bins\n",
    "bins = [0, 5, 10, 15, 20, 25, 30, 35, 40, 45, 50, 55, 60, 65, 70, 75, 80, 85, 90, 95, 100, 105, 110, 115, 120]\n",
    "df['Agebins'] = pd.cut(df['Age'], bins)\n",
    "df.head()\n"
   ]
  },
  {
   "cell_type": "code",
   "execution_count": 21,
   "metadata": {},
   "outputs": [
    {
     "data": {
      "text/plain": [
       "Text(0.5,0,'Patient age (in 5 year bins)')"
      ]
     },
     "execution_count": 21,
     "metadata": {},
     "output_type": "execute_result"
    },
    {
     "data": {
      "image/png": "[encoded data removed]",
      "text/plain": [
       "<matplotlib.figure.Figure at 0x10be10198>"
      ]
     },
     "metadata": {},
     "output_type": "display_data"
    }
   ],
   "source": [
    "df_age = df[['No-show_Binary', 'Agebins']].groupby('Agebins').count()\n",
    "# df_age.head(23)\n",
    "plot_title = 'No-show percentage as a function of age'\n",
    "ax = df_age['No-show_Binary'].plot(kind='bar', figsize=(15, 3), title=plot_title)\n",
    "ax.set_ylabel('No-show percentage')\n",
    "ax.set_xlabel('Patient age (in 5 year bins)')"
   ]
  },
  {
   "cell_type": "markdown",
   "metadata": {},
   "source": [
    "Due to the sample size we can ignore ages of 90 and above."
   ]
  },
  {
   "cell_type": "code",
   "execution_count": 49,
   "metadata": {},
   "outputs": [
    {
     "data": {
      "text/plain": [
       "Text(0.5,1,'Distribution of Age')"
      ]
     },
     "execution_count": 49,
     "metadata": {},
     "output_type": "execute_result"
    },
    {
     "data": {
      "image/png": "[encoded data removed]",
      "text/plain": [
       "<matplotlib.figure.Figure at 0x1a1a439cc0>"
      ]
     },
     "metadata": {},
     "output_type": "display_data"
    }
   ],
   "source": [
    "plt.figure();\n",
    "age_hist = df['Age'].plot.hist(bins=10)\n",
    "age_hist.set_xlabel(\"Age\")\n",
    "age_hist.set_ylabel(\"Patients\")\n",
    "age_hist.set_title('Distribution of Age')"
   ]
  },
  {
   "cell_type": "code",
   "execution_count": 70,
   "metadata": {
    "collapsed": true
   },
   "outputs": [],
   "source": [
    "#Most of the patients are in the age of 0-10 an 50-60, after the age of 70, there is huge decrease in no. of patients."
   ]
  },
  {
   "cell_type": "code",
   "execution_count": 52,
   "metadata": {},
   "outputs": [
    {
     "data": {
      "text/plain": [
       "Text(0.5,1,'Distribution of Days delta')"
      ]
     },
     "execution_count": 52,
     "metadata": {},
     "output_type": "execute_result"
    },
    {
     "data": {
      "image/png": "[encoded data removed]",
      "text/plain": [
       "<matplotlib.figure.Figure at 0x10c242dd8>"
      ]
     },
     "metadata": {},
     "output_type": "display_data"
    }
   ],
   "source": [
    "dt_scheduledDay =  pd.to_datetime(df.ScheduledDay).dt.date\n",
    "dt_appointmentDay = pd.to_datetime(df.AppointmentDay).dt.date\n",
    "\n",
    "# Storing \"delta_days\" to df as a new feature\n",
    "df['days_delta'] = (dt_appointmentDay - dt_scheduledDay).dt.days\n",
    "df.head()\n",
    "days_hist = df['days_delta'].plot.hist(bins=10)\n",
    "days_hist.set_xlabel(\"Days delta\")\n",
    "days_hist.set_xticks(range(0, 180, 10))\n",
    "days_hist.set_ylabel(\"Patients\")\n",
    "days_hist.set_title('Distribution of Days delta')"
   ]
  },
  {
   "cell_type": "code",
   "execution_count": 68,
   "metadata": {
    "collapsed": true
   },
   "outputs": [],
   "source": [
    "#Most of the patients have a delay of at most 10 days to recieve treatment, \n",
    "#but very few patients were delayed after that."
   ]
  },
  {
   "cell_type": "code",
   "execution_count": 54,
   "metadata": {
    "collapsed": true
   },
   "outputs": [],
   "source": [
    "df_age = df\n",
    "df_age = df_age.drop(df_age.index[df_age.Age > 90])\n",
    "df_age.drop('Agebins', axis=1, inplace=True)\n",
    "bins = [0, 5, 10, 15, 20, 25, 30, 35, 40, 45, 50, 55, 60, 65, 70, 75, 80, 85, 90]\n",
    "df_age['Agebins'] = pd.cut(df_age['Age'], bins)"
   ]
  },
  {
   "cell_type": "code",
   "execution_count": 55,
   "metadata": {},
   "outputs": [
    {
     "data": {
      "text/plain": [
       "Text(0.5,0,'Patient age (in 5 year bins)')"
      ]
     },
     "execution_count": 55,
     "metadata": {},
     "output_type": "execute_result"
    },
    {
     "data": {
      "image/png": "[encoded data removed]",
      "text/plain": [
       "<matplotlib.figure.Figure at 0x10be1b2b0>"
      ]
     },
     "metadata": {},
     "output_type": "display_data"
    }
   ],
   "source": [
    "# making the plot\n",
    "df_age = df_age[['No-show_Binary', 'Agebins']].groupby('Agebins').mean()\n",
    "plot_title = 'No-show percentage as a function of age'\n",
    "ax = df_age['No-show_Binary'].plot(kind='bar', figsize=(15, 3), title=plot_title)\n",
    "ax.set_ylabel('No-show percentage')\n",
    "ax.set_xlabel('Patient age (in 5 year bins)')"
   ]
  },
  {
   "cell_type": "markdown",
   "metadata": {},
   "source": [
    "The no-show percentage is increasing with age for young children. The peak is reached with the 10-15 bin. It then stays constant for 15 years after which the no-show percentage slowly declines until a minimum is reached at the ages of 60 - 65. Then it it remains relatively constant for 20 years."
   ]
  },
  {
   "cell_type": "markdown",
   "metadata": {},
   "source": [
    "### What is the influence of the neighbourhood and the no-show percentage?"
   ]
  },
  {
   "cell_type": "code",
   "execution_count": 24,
   "metadata": {},
   "outputs": [
    {
     "data": {
      "text/plain": [
       "Neighbourhood\n",
       "AEROPORTO                         8\n",
       "ANDORINHAS                     2262\n",
       "ANTÔNIO HONÓRIO                 271\n",
       "ARIOVALDO FAVALESSA             282\n",
       "BARRO VERMELHO                  423\n",
       "BELA VISTA                     1907\n",
       "BENTO FERREIRA                  858\n",
       "BOA VISTA                       312\n",
       "BONFIM                         2773\n",
       "CARATOÍRA                      2565\n",
       "CENTRO                         3334\n",
       "COMDUSA                         310\n",
       "CONQUISTA                       849\n",
       "CONSOLAÇÃO                     1376\n",
       "CRUZAMENTO                     1398\n",
       "DA PENHA                       2217\n",
       "DE LOURDES                      305\n",
       "DO CABRAL                       560\n",
       "DO MOSCOSO                      413\n",
       "DO QUADRO                       849\n",
       "ENSEADA DO SUÁ                  235\n",
       "ESTRELINHA                      538\n",
       "FONTE GRANDE                    682\n",
       "FORTE SÃO JOÃO                 1889\n",
       "FRADINHOS                       258\n",
       "GOIABEIRAS                      700\n",
       "GRANDE VITÓRIA                 1071\n",
       "GURIGICA                       2018\n",
       "HORTO                           175\n",
       "ILHA DAS CAIEIRAS              1071\n",
       "ILHA DE SANTA MARIA            1885\n",
       "ILHA DO BOI                      35\n",
       "ILHA DO FRADE                    10\n",
       "ILHA DO PRÍNCIPE               2266\n",
       "ILHAS OCEÂNICAS DE TRINDADE       2\n",
       "INHANGUETÁ                     1057\n",
       "ITARARÉ                        3514\n",
       "JABOUR                         2509\n",
       "JARDIM CAMBURI                 7717\n",
       "JARDIM DA PENHA                3877\n",
       "Name: No-show_Binary, dtype: int64"
      ]
     },
     "execution_count": 24,
     "metadata": {},
     "output_type": "execute_result"
    }
   ],
   "source": [
    "# Look at the sample size difference in some neighbourhoods to get an idea\n",
    "df_neighbourhood = df[['No-show_Binary', 'Neighbourhood']].groupby('Neighbourhood')['No-show_Binary'].count()\n",
    "df_neighbourhood.head(40)"
   ]
  },
  {
   "cell_type": "code",
   "execution_count": 36,
   "metadata": {},
   "outputs": [
    {
     "data": {
      "text/html": [
       "<div>\n",
       "<style>\n",
       "    .dataframe thead tr:only-child th {\n",
       "        text-align: right;\n",
       "    }\n",
       "\n",
       "    .dataframe thead th {\n",
       "        text-align: left;\n",
       "    }\n",
       "\n",
       "    .dataframe tbody tr th {\n",
       "        vertical-align: top;\n",
       "    }\n",
       "</style>\n",
       "<table border=\"1\" class=\"dataframe\">\n",
       "  <thead>\n",
       "    <tr style=\"text-align: right;\">\n",
       "      <th></th>\n",
       "      <th>No-show_Binary</th>\n",
       "    </tr>\n",
       "    <tr>\n",
       "      <th>Neighbourhood</th>\n",
       "      <th></th>\n",
       "    </tr>\n",
       "  </thead>\n",
       "  <tbody>\n",
       "    <tr>\n",
       "      <th>ILHA DO BOI</th>\n",
       "      <td>0.085714</td>\n",
       "    </tr>\n",
       "    <tr>\n",
       "      <th>MÁRIO CYPRESTE</th>\n",
       "      <td>0.145553</td>\n",
       "    </tr>\n",
       "    <tr>\n",
       "      <th>SOLON BORGES</th>\n",
       "      <td>0.147122</td>\n",
       "    </tr>\n",
       "    <tr>\n",
       "      <th>DE LOURDES</th>\n",
       "      <td>0.154098</td>\n",
       "    </tr>\n",
       "    <tr>\n",
       "      <th>DO CABRAL</th>\n",
       "      <td>0.157143</td>\n",
       "    </tr>\n",
       "    <tr>\n",
       "      <th>SANTA MARTHA</th>\n",
       "      <td>0.158416</td>\n",
       "    </tr>\n",
       "    <tr>\n",
       "      <th>JARDIM DA PENHA</th>\n",
       "      <td>0.162755</td>\n",
       "    </tr>\n",
       "    <tr>\n",
       "      <th>DO QUADRO</th>\n",
       "      <td>0.164900</td>\n",
       "    </tr>\n",
       "    <tr>\n",
       "      <th>VILA RUBIM</th>\n",
       "      <td>0.165687</td>\n",
       "    </tr>\n",
       "    <tr>\n",
       "      <th>MORADA DE CAMBURI</th>\n",
       "      <td>0.166667</td>\n",
       "    </tr>\n",
       "  </tbody>\n",
       "</table>\n",
       "</div>"
      ],
      "text/plain": [
       "                   No-show_Binary\n",
       "Neighbourhood                    \n",
       "ILHA DO BOI              0.085714\n",
       "MÁRIO CYPRESTE           0.145553\n",
       "SOLON BORGES             0.147122\n",
       "DE LOURDES               0.154098\n",
       "DO CABRAL                0.157143\n",
       "SANTA MARTHA             0.158416\n",
       "JARDIM DA PENHA          0.162755\n",
       "DO QUADRO                0.164900\n",
       "VILA RUBIM               0.165687\n",
       "MORADA DE CAMBURI        0.166667"
      ]
     },
     "execution_count": 36,
     "metadata": {},
     "output_type": "execute_result"
    }
   ],
   "source": [
    "# Lets first filter out all neighborhoods with a low sample count. I set the threshold on 10 \n",
    "threshold = 10\n",
    "df_nb = df[['No-show_Binary', 'Neighbourhood']].groupby('Neighbourhood').filter(lambda x: len(x) > threshold)\n",
    "# groupby neighbourhood and calculate the mean\n",
    "df_nb = df_nb.groupby('Neighbourhood').mean()\n",
    "#sort\n",
    "df_nb_sorted = df_nb.reset_index().sort_values('No-show_Binary', ascending=True).set_index(['Neighbourhood'])\n",
    "df_nb_sorted.head(10)"
   ]
  },
  {
   "cell_type": "code",
   "execution_count": 58,
   "metadata": {},
   "outputs": [
    {
     "data": {
      "text/plain": [
       "Text(0,0.5,'No-show percentage')"
      ]
     },
     "execution_count": 58,
     "metadata": {},
     "output_type": "execute_result"
    },
    {
     "data": {
      "image/png": "[encoded data removed]",
      "text/plain": [
       "<matplotlib.figure.Figure at 0x10de0c710>"
      ]
     },
     "metadata": {},
     "output_type": "display_data"
    }
   ],
   "source": [
    "# Now we can make a plot of the top 10 neighborhoods with no show\n",
    "plot_title = 'No-show percentage for top 10 no show different neighbourhoods'\n",
    "ax = df_nb_sorted['No-show_Binary'][:10].plot(kind='bar', figsize=(15, 3), title=plot_title)\n",
    "ax.set_ylabel('No-show percentage')"
   ]
  },
  {
   "cell_type": "markdown",
   "metadata": {},
   "source": [
    "There is a large correlation between neighbourhood and no-show percentage\n",
    "### What is the influence of the days between the scheduled date and the appointed date on the no-show percentage?"
   ]
  },
  {
   "cell_type": "code",
   "execution_count": 67,
   "metadata": {},
   "outputs": [
    {
     "data": {
      "text/plain": [
       "Text(0,0.5,'No-show percentage')"
      ]
     },
     "execution_count": 67,
     "metadata": {},
     "output_type": "execute_result"
    },
    {
     "data": {
      "image/png": "[encoded data removed]",
      "text/plain": [
       "<matplotlib.figure.Figure at 0x1a199d8208>"
      ]
     },
     "metadata": {},
     "output_type": "display_data"
    }
   ],
   "source": [
    "# Now we can make a plot of the below 10 neighborhoods with no show\n",
    "plot_title = 'No-show percentage for below 10 no show different neighbourhoods'\n",
    "ax = df_nb_sorted['No-show_Binary'][0:10].plot(kind='bar', figsize=(15, 3), title=plot_title)\n",
    "ax.set_ylabel('No-show percentage')"
   ]
  },
  {
   "cell_type": "code",
   "execution_count": 27,
   "metadata": {},
   "outputs": [
    {
     "data": {
      "text/html": [
       "<div>\n",
       "<style>\n",
       "    .dataframe thead tr:only-child th {\n",
       "        text-align: right;\n",
       "    }\n",
       "\n",
       "    .dataframe thead th {\n",
       "        text-align: left;\n",
       "    }\n",
       "\n",
       "    .dataframe tbody tr th {\n",
       "        vertical-align: top;\n",
       "    }\n",
       "</style>\n",
       "<table border=\"1\" class=\"dataframe\">\n",
       "  <thead>\n",
       "    <tr style=\"text-align: right;\">\n",
       "      <th></th>\n",
       "      <th>No-show_Binary</th>\n",
       "    </tr>\n",
       "    <tr>\n",
       "      <th>DaysBetween</th>\n",
       "      <th></th>\n",
       "    </tr>\n",
       "  </thead>\n",
       "  <tbody>\n",
       "    <tr>\n",
       "      <th>-6</th>\n",
       "      <td>1.000000</td>\n",
       "    </tr>\n",
       "    <tr>\n",
       "      <th>-1</th>\n",
       "      <td>1.000000</td>\n",
       "    </tr>\n",
       "    <tr>\n",
       "      <th>0</th>\n",
       "      <td>0.046471</td>\n",
       "    </tr>\n",
       "    <tr>\n",
       "      <th>1</th>\n",
       "      <td>0.213505</td>\n",
       "    </tr>\n",
       "    <tr>\n",
       "      <th>2</th>\n",
       "      <td>0.238216</td>\n",
       "    </tr>\n",
       "  </tbody>\n",
       "</table>\n",
       "</div>"
      ],
      "text/plain": [
       "             No-show_Binary\n",
       "DaysBetween                \n",
       "-6                 1.000000\n",
       "-1                 1.000000\n",
       " 0                 0.046471\n",
       " 1                 0.213505\n",
       " 2                 0.238216"
      ]
     },
     "execution_count": 27,
     "metadata": {},
     "output_type": "execute_result"
    }
   ],
   "source": [
    "#First drop the time part\n",
    "df['ScheduledDay'] = df['ScheduledDay'].str.slice(start=0, stop=10)\n",
    "df['AppointmentDay'] = df['AppointmentDay'].str.slice(start=0, stop=10)\n",
    "\n",
    "#convert to datetime and subtract to get the days between schedule and appointment\n",
    "df['ScheduledDay'] = pd.to_datetime(df['ScheduledDay'])\n",
    "df['AppointmentDay'] = pd.to_datetime(df['AppointmentDay'])\n",
    "df['DaysBetween'] = df['AppointmentDay'] - df['ScheduledDay']\n",
    "df['DaysBetween'] = df['DaysBetween'].dt.days\n",
    "\n",
    "#group by days between\n",
    "df_daysbetween = df[['No-show_Binary', 'DaysBetween']].groupby('DaysBetween').mean()\n",
    "df_daysbetween.head()"
   ]
  },
  {
   "cell_type": "code",
   "execution_count": 85,
   "metadata": {},
   "outputs": [
    {
     "data": {
      "text/plain": [
       "Text(0.5,0,'Days between scheduling and appointment')"
      ]
     },
     "execution_count": 85,
     "metadata": {},
     "output_type": "execute_result"
    },
    {
     "data": {
      "image/png": "[encoded data removed]",
      "text/plain": [
       "<matplotlib.figure.Figure at 0x1a20a4a978>"
      ]
     },
     "metadata": {},
     "output_type": "display_data"
    }
   ],
   "source": [
    "# Uhm negative days? Clearly I missed something during the initial data cleaning phase. \n",
    "\n",
    "df_daysbetween = df.drop(df.index[df.DaysBetween < 0])\n",
    "df_daysbetween = df_daysbetween[['No-show_Binary', 'DaysBetween']].groupby('DaysBetween').count()\n",
    "plot_title = 'Appointment count as a function of days between scheduling and appontment'\n",
    "\n",
    "ax = df_daysbetween['No-show_Binary'][0:10].plot(kind='bar', figsize=(15, 6), title=plot_title,)\n",
    "ax.set_ylabel('Appointments')\n",
    "ax.set_xlabel('Days between scheduling and appointment')"
   ]
  },
  {
   "cell_type": "markdown",
   "metadata": {},
   "source": [
    "Although the 0 day (appointment scheduled on the day of the scheduling) peak is obvious I am now more interested in the tail. A few things to notice.\n",
    "1. The appointment count decreases rapidly with an increasing number of days between scheduling and appointment.\n",
    "2. There is an interesting 7 day (weekly) cylcle in the counts\n",
    "\n",
    "I decided to ignore anything larger as 4 weeks."
   ]
  },
  {
   "cell_type": "code",
   "execution_count": 29,
   "metadata": {},
   "outputs": [
    {
     "data": {
      "text/plain": [
       "Text(0.5,0,'Days between scheduling and appointment')"
      ]
     },
     "execution_count": 29,
     "metadata": {},
     "output_type": "execute_result"
    },
    {
     "data": {
      "image/png": "[encoded data removed]",
      "text/plain": [
       "<matplotlib.figure.Figure at 0x1a18faca58>"
      ]
     },
     "metadata": {},
     "output_type": "display_data"
    }
   ],
   "source": [
    "df_daysbetween = df.drop(df.index[df.DaysBetween < 0])\n",
    "df_daysbetween = df_daysbetween.drop(df_daysbetween.index[df_daysbetween.DaysBetween > 28])\n",
    "df_daysbetween = df_daysbetween[['No-show_Binary', 'DaysBetween']].groupby('DaysBetween').mean()\n",
    "ax = df_daysbetween['No-show_Binary'].plot(kind='line', figsize=(15, 3), title=plot_title)\n",
    "ax.set_ylabel('No-show percentage')\n",
    "ax.set_xlabel('Days between scheduling and appointment')"
   ]
  },
  {
   "cell_type": "markdown",
   "metadata": {},
   "source": [
    "We see a large difference here. If the appointment is scheduled on the day of the appointment there is hardly any no-show.Then the no-show percentage increases rapidly. For more than 10 days the no-show percentage is more than 30%.\n",
    "\n",
    "### What is the influence of the day of the week on the no-show percentage?\n"
   ]
  },
  {
   "cell_type": "code",
   "execution_count": 30,
   "metadata": {},
   "outputs": [
    {
     "data": {
      "text/html": [
       "<div>\n",
       "<style>\n",
       "    .dataframe thead tr:only-child th {\n",
       "        text-align: right;\n",
       "    }\n",
       "\n",
       "    .dataframe thead th {\n",
       "        text-align: left;\n",
       "    }\n",
       "\n",
       "    .dataframe tbody tr th {\n",
       "        vertical-align: top;\n",
       "    }\n",
       "</style>\n",
       "<table border=\"1\" class=\"dataframe\">\n",
       "  <thead>\n",
       "    <tr style=\"text-align: right;\">\n",
       "      <th></th>\n",
       "      <th>No-show_Binary</th>\n",
       "    </tr>\n",
       "    <tr>\n",
       "      <th>DayOfWeekIndex</th>\n",
       "      <th></th>\n",
       "    </tr>\n",
       "  </thead>\n",
       "  <tbody>\n",
       "    <tr>\n",
       "      <th>0</th>\n",
       "      <td>0.206481</td>\n",
       "    </tr>\n",
       "    <tr>\n",
       "      <th>1</th>\n",
       "      <td>0.200936</td>\n",
       "    </tr>\n",
       "    <tr>\n",
       "      <th>2</th>\n",
       "      <td>0.196892</td>\n",
       "    </tr>\n",
       "    <tr>\n",
       "      <th>3</th>\n",
       "      <td>0.193541</td>\n",
       "    </tr>\n",
       "    <tr>\n",
       "      <th>4</th>\n",
       "      <td>0.212261</td>\n",
       "    </tr>\n",
       "    <tr>\n",
       "      <th>5</th>\n",
       "      <td>0.230769</td>\n",
       "    </tr>\n",
       "  </tbody>\n",
       "</table>\n",
       "</div>"
      ],
      "text/plain": [
       "                No-show_Binary\n",
       "DayOfWeekIndex                \n",
       "0                     0.206481\n",
       "1                     0.200936\n",
       "2                     0.196892\n",
       "3                     0.193541\n",
       "4                     0.212261\n",
       "5                     0.230769"
      ]
     },
     "execution_count": 30,
     "metadata": {},
     "output_type": "execute_result"
    }
   ],
   "source": [
    "df['DayOfWeekIndex'] = df['AppointmentDay'].dt.dayofweek\n",
    "df_dayofweek = df[['No-show_Binary', 'DayOfWeekIndex']].groupby('DayOfWeekIndex').mean()\n",
    "df_dayofweek.head(7)"
   ]
  },
  {
   "cell_type": "markdown",
   "metadata": {},
   "source": [
    "Monday = 0, Tuesday = 1 and so on. We see that there are no appointments on sunday.\n",
    "we convert the DayOfWeekIndex numbers to day names for readability and make a plot."
   ]
  },
  {
   "cell_type": "code",
   "execution_count": 31,
   "metadata": {},
   "outputs": [
    {
     "data": {
      "text/plain": [
       "Text(0.5,0,'Day of the week')"
      ]
     },
     "execution_count": 31,
     "metadata": {},
     "output_type": "execute_result"
    },
    {
     "data": {
      "image/png": "[encoded data removed]",
      "text/plain": [
       "<matplotlib.figure.Figure at 0x1a0f464da0>"
      ]
     },
     "metadata": {},
     "output_type": "display_data"
    }
   ],
   "source": [
    "df_dayofweek.index = ['Monday', 'Tuesday', 'Wednesday', 'Thursday', 'Friday', 'Saturday']\n",
    "plot_title = 'No-show percentage by weekday'\n",
    "ax = df_dayofweek['No-show_Binary'].plot(kind='bar', title=plot_title)\n",
    "ax.set_ylabel('No-show percentage')\n",
    "ax.set_xlabel('Day of the week')"
   ]
  },
  {
   "cell_type": "markdown",
   "metadata": {
    "collapsed": true
   },
   "source": [
    "We see a somewhat higher incidence of no-shows on Friday and a significant higher incidence of no-shows on Saturday."
   ]
  },
  {
   "cell_type": "markdown",
   "metadata": {
    "collapsed": true
   },
   "source": [
    "## Summary\n",
    "The main question was What are the most important factors in determing the likelyhood of a no-show?\n",
    "The most important factors were:\n",
    "1. The time between the scheduled and appointment date. Patients are a lot more likely to show up when the appointment is scheduled on the same day.\n",
    "2. The Neighbourhood. This varied from 9% for ILHA DO BOI up to 29% for SANTOS DUMONT.\n",
    "3. SMS received. Patients who received an SMS had a no-show percentage of 27% vs 20% overall.\n",
    "\n",
    "Smaller effects were found for the day of the week, age of the patient hipertension and diabetes.\n",
    "\n",
    "There is no statistical analysis in this study therefore this analysis gives correlations and makes no attempt to suggest causality.\n",
    "\n",
    "For further studies it would be interesting to know the average travel time for a patient to get to the clinic in each neighbourhood as the Neighbourhood had such a large influence on the no-show percentage.\n",
    "\n",
    "A further limitation is that some variabeles werejust reprecented in a 1 or a 0. For example 27% of patients who received an SMS is a no-show vs 20% overall. In 32% of the appointments the patient received an SMS. It would be interesting to know why these patients received an SMS. If these patients had habit of not showing up in previous appointments it would explain why the no-show percentage is so much higher for SMS receivers. But all we have is 1 or 0. \n",
    "\n",
    "The distribution is clearely skewed towards women 64% vs 35%. However as the no-show percentage under man and woman is almost equal this will have little effect on the overal study."
   ]
  }
 ],
 "metadata": {
  "kernelspec": {
   "display_name": "Python 3",
   "language": "python",
   "name": "python3"
  },
  "language_info": {
   "codemirror_mode": {
    "name": "ipython",
    "version": 3
   },
   "file_extension": ".py",
   "mimetype": "text/x-python",
   "name": "python",
   "nbconvert_exporter": "python",
   "pygments_lexer": "ipython3",
   "version": "3.6.3"
  }
 },
 "nbformat": 4,
 "nbformat_minor": 2
}
